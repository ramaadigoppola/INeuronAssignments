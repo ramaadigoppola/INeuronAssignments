{
 "cells": [
  {
   "cell_type": "markdown",
   "metadata": {},
   "source": [
    "# Assignment2"
   ]
  },
  {
   "cell_type": "markdown",
   "metadata": {},
   "source": [
    "<dl>\n",
    "  <dt>1. Create the below pattern using nested for loop in Python.</dt>\n",
    "  <dd>*</dd>\n",
    "    <dd>**</dd>\n",
    "    <dd>***</dd>\n",
    "    <dd>****</dd>\n",
    "    <dd>*****</dd>\n",
    "    <dd>****</dd>\n",
    "    <dd>***</dd>\n",
    "    <dd>**</dd>\n",
    "    <dd>*</dd>\n",
    "</dl>"
   ]
  },
  {
   "cell_type": "markdown",
   "metadata": {},
   "source": [
    "#### Static Value "
   ]
  },
  {
   "cell_type": "code",
   "execution_count": 12,
   "metadata": {},
   "outputs": [
    {
     "name": "stdout",
     "output_type": "stream",
     "text": [
      "\n",
      "*\n",
      "**\n",
      "***\n",
      "****\n",
      "*****\n",
      "****\n",
      "***\n",
      "**\n",
      "*\n"
     ]
    }
   ],
   "source": [
    "#decleration of variable with value 6 as range will consider value-1\n",
    "oVal = 6\n",
    "for i in range(oVal):\n",
    "    print(\"*\"*i)  #prints the '*' value with the multiple of i, to get the increased value\n",
    "    if i == (oVal-1):  # condition check for n- value to do reverse order\n",
    "        for n in range(i-1):  # loop for reverse order \n",
    "            print(\"*\"*(i-1-n)) ## prints the '*' value in decreasing order"
   ]
  },
  {
   "cell_type": "markdown",
   "metadata": {},
   "source": [
    "#### Dynamic value with input validation"
   ]
  },
  {
   "cell_type": "code",
   "execution_count": 11,
   "metadata": {},
   "outputs": [
    {
     "name": "stdout",
     "output_type": "stream",
     "text": [
      "Please enter number: agyuweg\n",
      "The Entered value is not numeric, please re-enter only numeric values\n",
      "Please enter number: 10\n",
      "\n",
      "*\n",
      "**\n",
      "***\n",
      "****\n",
      "*****\n",
      "******\n",
      "*******\n",
      "********\n",
      "*********\n",
      "********\n",
      "*******\n",
      "******\n",
      "*****\n",
      "****\n",
      "***\n",
      "**\n",
      "*\n"
     ]
    }
   ],
   "source": [
    "## loop to continue, to give number of input value enter option to user if entered wrong data\n",
    "while True:\n",
    "    try:   ## Exception handling \n",
    "        number = input(\"Please enter number: \") \n",
    "        if number.isdecimal():  ## condition check either entered value is number or not\n",
    "            break   ## if condition check true, breaks the while loop\n",
    "        else:\n",
    "            raise TypeError  ## if condition fails, throws the exception\n",
    "    except TypeError:\n",
    "        print(\"The Entered value is not numeric, please re-enter only numeric values\")\n",
    "        continue   ## continues the loop until user entered valid data\n",
    "oVal = int(number) ## converting the input value datatype(str) to int\n",
    "for i in range(oVal): \n",
    "    print(\"*\"*i)  #prints the '*' value with the multiple of i, to get the increased value\n",
    "    if i == (oVal-1):  # condition check for n- value to do reverse order\n",
    "        for n in range(i-1):  # loop for reverse order \n",
    "            print(\"*\"*(i-1-n)) ## prints the '*' value in decreasing order"
   ]
  },
  {
   "cell_type": "markdown",
   "metadata": {},
   "source": [
    "###### 2. Write a Python program to reverse a word after accepting the input from the user."
   ]
  },
  {
   "cell_type": "markdown",
   "metadata": {},
   "source": [
    "Sample Output:\n",
    "\n",
    "Input word: ineuron\n",
    "\n",
    "Output: norueni"
   ]
  },
  {
   "cell_type": "code",
   "execution_count": 16,
   "metadata": {},
   "outputs": [
    {
     "name": "stdout",
     "output_type": "stream",
     "text": [
      "Enter the value:krishna\n",
      "anhsirk\n"
     ]
    }
   ],
   "source": [
    "# Accepts any value in str data tyoe\n",
    "inputValue = input(\"Enter the value:\")\n",
    "# reverse the input value\n",
    "print(inputValue[::-1])"
   ]
  },
  {
   "cell_type": "code",
   "execution_count": null,
   "metadata": {},
   "outputs": [],
   "source": []
  }
 ],
 "metadata": {
  "kernelspec": {
   "display_name": "Python 3",
   "language": "python",
   "name": "python3"
  },
  "language_info": {
   "codemirror_mode": {
    "name": "ipython",
    "version": 3
   },
   "file_extension": ".py",
   "mimetype": "text/x-python",
   "name": "python",
   "nbconvert_exporter": "python",
   "pygments_lexer": "ipython3",
   "version": "3.7.4"
  }
 },
 "nbformat": 4,
 "nbformat_minor": 2
}
