{
 "cells": [
  {
   "cell_type": "markdown",
   "metadata": {},
   "source": [
    "# Assignment1"
   ]
  },
  {
   "cell_type": "markdown",
   "metadata": {},
   "source": [
    "#### 1. Write a program which will find all such numbers which are divisible by 7 but are not a multiple of 5, between 2000 and 3200 (both included). The numbers obtained should be printed in a comma-separated sequence on a single line"
   ]
  },
  {
   "cell_type": "code",
   "execution_count": 2,
   "metadata": {},
   "outputs": [
    {
     "name": "stdout",
     "output_type": "stream",
     "text": [
      "2002,2009,2016,2023,2037,2044,2051,2058,2072,2079,2086,2093,2107,2114,2121,2128,2142,2149,2156,2163,2177,2184,2191,2198,2212,2219,2226,2233,2247,2254,2261,2268,2282,2289,2296,2303,2317,2324,2331,2338,2352,2359,2366,2373,2387,2394,2401,2408,2422,2429,2436,2443,2457,2464,2471,2478,2492,2499,2506,2513,2527,2534,2541,2548,2562,2569,2576,2583,2597,2604,2611,2618,2632,2639,2646,2653,2667,2674,2681,2688,2702,2709,2716,2723,2737,2744,2751,2758,2772,2779,2786,2793,2807,2814,2821,2828,2842,2849,2856,2863,2877,2884,2891,2898,2912,2919,2926,2933,2947,2954,2961,2968,2982,2989,2996,3003,3017,3024,3031,3038,3052,3059,3066,3073,3087,3094,3101,3108,3122,3129,3136,3143,3157,3164,3171,3178,3192,3199\n"
     ]
    }
   ],
   "source": [
    "#creating empty list\n",
    "number=[]\n",
    "# loop to get numbers between 2000 to 3200 which are divisible by 7 and not the multiple of 5\n",
    "for x in range(2000, 3201):         \n",
    "    if (x%7==0) and (x%5!=0):   \n",
    "        number.append(str(x))    # appending each value to list\n",
    "#joining all the outcome numbers seperate by comma \n",
    "print (','.join(number))"
   ]
  },
  {
   "cell_type": "markdown",
   "metadata": {},
   "source": [
    "#### 2. Write a Python program to accept the user's first and last name and then getting them printed in the the reverse order with a space between first name and last name"
   ]
  },
  {
   "cell_type": "code",
   "execution_count": 6,
   "metadata": {},
   "outputs": [
    {
     "name": "stdout",
     "output_type": "stream",
     "text": [
      "Enter first Name:Rama\n",
      "Enter last Name:Krishna\n",
      "Krishna Rama\n",
      "anhsirK amaR\n"
     ]
    }
   ],
   "source": [
    "#varible decleration to read the first name from user input\n",
    "firstName = input(\"Enter first Name:\")\n",
    "#varible decleration to read the last name from user input\n",
    "lastName =  input(\"Enter last Name:\")\n",
    "#concatenating the last and first name seperating then with space\n",
    "print(lastName+\" \"+firstName)\n",
    "#concatenating the last and first name seperating then with space in reverse order\n",
    "print(lastName[::-1]+\" \"+firstName[::-1])"
   ]
  },
  {
   "cell_type": "markdown",
   "metadata": {},
   "source": [
    "#### 3. Write a Python program to find the volume of a sphere with diameter 12 cm."
   ]
  },
  {
   "cell_type": "code",
   "execution_count": 11,
   "metadata": {},
   "outputs": [
    {
     "name": "stdout",
     "output_type": "stream",
     "text": [
      "Volume of Sphere 7238.229473870882\n"
     ]
    }
   ],
   "source": [
    "# importing pi from math madule\n",
    "from math import pi\n",
    "#decleration of radius value as 12cm\n",
    "r = 12\n",
    "# math formula for volume of sphere is v= 4/3*pi*r power 3\n",
    "v = ((4/3)*pi*(r**3))\n",
    "#printing the volume of sphere\n",
    "print(\"Volume of Sphere %s\"%(v))"
   ]
  }
 ],
 "metadata": {
  "kernelspec": {
   "display_name": "Python 3",
   "language": "python",
   "name": "python3"
  },
  "language_info": {
   "codemirror_mode": {
    "name": "ipython",
    "version": 3
   },
   "file_extension": ".py",
   "mimetype": "text/x-python",
   "name": "python",
   "nbconvert_exporter": "python",
   "pygments_lexer": "ipython3",
   "version": "3.7.4"
  }
 },
 "nbformat": 4,
 "nbformat_minor": 2
}
